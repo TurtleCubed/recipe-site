{
 "cells": [
  {
   "cell_type": "code",
   "execution_count": 36,
   "metadata": {},
   "outputs": [],
   "source": [
    "t = \\\n",
    "'''<h1>Chocolate Chip Cookies</h1>\n",
    "<img src=\"static/images/test.jpg\" width=\"60%\">\n",
    "<br>\n",
    "<br>\n",
    "Makes <input id=\"scale\" type=\"number\" oninput=\"scale()\" style=\"width: 45px;\" value=12></input> cookies<br>\n",
    "<h2>Ingredients</h2>\n",
    "<ul>\n",
    "  <li>%1% stick of butter (1/2 cup), softened</li>\n",
    "  <li>%100% g white sugar</li>\n",
    "  <li>100 g packed brown sugar</li>\n",
    "  <li>1 egg</li>\n",
    "  <li>5 mL vanilla extract</li>\n",
    "  <li>2.5 mL baking soda</li>\n",
    "  <li>5 mL hot water</li>\n",
    "  <li>1.2 mL salt</li>\n",
    "  <li>180 g all-purpose flour</li>\n",
    "  <li>170 g semisweet chocolate chips</li>\n",
    "</ul>\n",
    "<h2>Equipment</h2>\n",
    "<ul>\n",
    "  <li>Scale</li>\n",
    "  <li>Hand mixer</li>\n",
    "  <li>Large mixing bowl</li>\n",
    "  <li>Small bowl for dissolving baking soda in water</li>\n",
    "  <li>Paddle</li>\n",
    "  <li>Something to scrape dough off the paddle</li>\n",
    "  <li>Two large baking trays</li>\n",
    "  <li>Parchment paper</li>\n",
    "  <li>Refrigerator</li>\n",
    "</ul>\n",
    "<h2>Directions</h2>\n",
    "<ol>\n",
    "  <li> Preheat the oven to 350 °F</li>\n",
    "  <li> Mix 100 g of white sugar with 100 g of brown sugar with the hand mixer. The mixture should be uniform.</li>\n",
    "  <li> Add 1 egg and 5 ml of vanilla extract. Mix with the hand mixer until uniform.</li>\n",
    "  <li> Dissolve the baking soda and salt in the hot water then mix it into the egg and sugar mix.</li>\n",
    "  <li> Add the flour and chocolate chips and use the paddle to stir until the mixture is uniform</li>\n",
    "  <li> Use the paddle to place batter into euqal parts on the baking trays. The dough should be spaced about 2 inches apart to prevent the cookies from combining.</li>\n",
    "  <li> Bake in the oven for 11 minutes or until the edges are lightly browned.</li>\n",
    "<script>\n",
    "    function scale() {\n",
    "        scale_element = document.getElementById(\"scale\")\n",
    "        const scale = scale_element.value / scale_element.getAttribute(\"data-original\");\n",
    "        qs = document.getElementsByClassName(\"quantity\")\n",
    "        for (var i = 0; i < qs.length; i++) {\n",
    "            qs[i].innerText = (Number(qs[i].getAttribute(\"data-original\")) * scale).toFixed(1);\n",
    "            console.log(qs[i]);\n",
    "        };\n",
    "    }\n",
    "</script>'''"
   ]
  },
  {
   "cell_type": "code",
   "execution_count": 37,
   "metadata": {},
   "outputs": [
    {
     "name": "stdout",
     "output_type": "stream",
     "text": [
      "228\n",
      "1\n"
     ]
    }
   ],
   "source": [
    "import re\n",
    "\n",
    "m = re.search(r'%([0-9]{1,})%', t)\n",
    "print(m.span()[0])\n",
    "print(m.group(1))\n",
    "while m:\n",
    "    t = t[:m.span()[0]] + \\\n",
    "    f'<span class=\"quantity\" data-original={m.group(1)}>{m.group(1)}</span>'+ \\\n",
    "    t[m.span()[1]:]\n",
    "    m = re.search(r'%([0-9]{1,})%', t)"
   ]
  },
  {
   "cell_type": "code",
   "execution_count": 38,
   "metadata": {},
   "outputs": [
    {
     "data": {
      "text/plain": [
       "'<h1>Chocolate Chip Cookies</h1>\\n<img src=\"static/images/test.jpg\" width=\"60%\">\\n<br>\\n<br>\\nMakes <input id=\"scale\" type=\"number\" oninput=\"scale()\" style=\"width: 45px;\" value=12></input> cookies<br>\\n<h2>Ingredients</h2>\\n<ul>\\n  <li><span class=\"quantity\" data-original=1>1</span> stick of butter (1/2 cup), softened</li>\\n  <li><span class=\"quantity\" data-original=100>100</span> g white sugar</li>\\n  <li>100 g packed brown sugar</li>\\n  <li>1 egg</li>\\n  <li>5 mL vanilla extract</li>\\n  <li>2.5 mL baking soda</li>\\n  <li>5 mL hot water</li>\\n  <li>1.2 mL salt</li>\\n  <li>180 g all-purpose flour</li>\\n  <li>170 g semisweet chocolate chips</li>\\n</ul>\\n<h2>Equipment</h2>\\n<ul>\\n  <li>Scale</li>\\n  <li>Hand mixer</li>\\n  <li>Large mixing bowl</li>\\n  <li>Small bowl for dissolving baking soda in water</li>\\n  <li>Paddle</li>\\n  <li>Something to scrape dough off the paddle</li>\\n  <li>Two large baking trays</li>\\n  <li>Parchment paper</li>\\n  <li>Refrigerator</li>\\n</ul>\\n<h2>Directions</h2>\\n<ol>\\n  <li> Preheat the oven to 350 °F</li>\\n  <li> Mix 100 g of white sugar with 100 g of brown sugar with the hand mixer. The mixture should be uniform.</li>\\n  <li> Add 1 egg and 5 ml of vanilla extract. Mix with the hand mixer until uniform.</li>\\n  <li> Dissolve the baking soda and salt in the hot water then mix it into the egg and sugar mix.</li>\\n  <li> Add the flour and chocolate chips and use the paddle to stir until the mixture is uniform</li>\\n  <li> Use the paddle to place batter into euqal parts on the baking trays. The dough should be spaced about 2 inches apart to prevent the cookies from combining.</li>\\n  <li> Bake in the oven for 11 minutes or until the edges are lightly browned.</li>\\n<script>\\n    function scale() {\\n        scale_element = document.getElementById(\"scale\")\\n        const scale = scale_element.value / scale_element.getAttribute(\"data-original\");\\n        qs = document.getElementsByClassName(\"quantity\")\\n        for (var i = 0; i < qs.length; i++) {\\n            qs[i].innerText = (Number(qs[i].getAttribute(\"data-original\")) * scale).toFixed(1);\\n            console.log(qs[i]);\\n        };\\n    }\\n</script>'"
      ]
     },
     "execution_count": 38,
     "metadata": {},
     "output_type": "execute_result"
    }
   ],
   "source": []
  }
 ],
 "metadata": {
  "kernelspec": {
   "display_name": "base",
   "language": "python",
   "name": "python3"
  },
  "language_info": {
   "codemirror_mode": {
    "name": "ipython",
    "version": 3
   },
   "file_extension": ".py",
   "mimetype": "text/x-python",
   "name": "python",
   "nbconvert_exporter": "python",
   "pygments_lexer": "ipython3",
   "version": "3.12.2"
  }
 },
 "nbformat": 4,
 "nbformat_minor": 2
}
